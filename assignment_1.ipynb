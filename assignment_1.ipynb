{
 "cells": [
  {
   "cell_type": "markdown",
   "metadata": {},
   "source": [
    "# COMP 472 Assignment 1\n",
    "## Team: RoboCops\n",
    "### Team Members:\n",
    "- Rongxi Meng (40045067)\n",
    "- Chen Qian (27867808)"
   ]
  },
  {
   "cell_type": "code",
   "execution_count": 2,
   "metadata": {},
   "outputs": [],
   "source": [
    "import pandas as pd\n",
    "import numpy as np\n",
    "from sklearn.model_selection import train_test_split\n",
    "from sklearn.tree import DecisionTreeClassifier, plot_tree\n",
    "import matplotlib.pyplot as plt\n",
    "from sklearn.model_selection import GridSearchCV\n",
    "from sklearn.neural_network import MLPClassifier\n",
    "from sklearn.metrics import accuracy_score\n",
    "from sklearn.metrics import confusion_matrix, precision_recall_fscore_support, accuracy_score, f1_score"
   ]
  },
  {
   "cell_type": "markdown",
   "metadata": {},
   "source": [
    "## Section 2.1: Load the Dataset in Python\n",
    "In this section, we will load the dataset and prepare it for the machine learning models.\n",
    "\n",
    "### 2.1(a) Preprocessing the Penguin Dataset\n",
    "The Penguin dataset contains string features 'island' and 'sex' that need to be converted to a numerical format suitable for MLP models. We will explore two methods for this conversion:\n",
    "- **Method i**: Convert these features into 1-hot vectors (also known as dummy-coded data).\n",
    "- **Method ii**: Manually convert these features into numerical categories.\n",
    "\n",
    "### 2.1(b) Assessing the Abalone Dataset\n",
    "We need to determine if the Abalone dataset can be used in its current form. If it contains features similar to the Penguin dataset that need conversion, we will apply the two methods mentioned above to transform any string features into a numerical format."
   ]
  },
  {
   "cell_type": "code",
   "execution_count": 3,
   "metadata": {},
   "outputs": [],
   "source": [
    "# Load the datasets\n",
    "penguins_data = pd.read_csv(\"./datasets/penguins.csv\")\n",
    "abalone_data = pd.read_csv(\"./datasets/abalone.csv\")"
   ]
  },
  {
   "cell_type": "code",
   "execution_count": 4,
   "metadata": {},
   "outputs": [
    {
     "data": {
      "text/html": [
       "<div>\n",
       "<style scoped>\n",
       "    .dataframe tbody tr th:only-of-type {\n",
       "        vertical-align: middle;\n",
       "    }\n",
       "\n",
       "    .dataframe tbody tr th {\n",
       "        vertical-align: top;\n",
       "    }\n",
       "\n",
       "    .dataframe thead th {\n",
       "        text-align: right;\n",
       "    }\n",
       "</style>\n",
       "<table border=\"1\" class=\"dataframe\">\n",
       "  <thead>\n",
       "    <tr style=\"text-align: right;\">\n",
       "      <th></th>\n",
       "      <th>species</th>\n",
       "      <th>island</th>\n",
       "      <th>culmen_length_mm</th>\n",
       "      <th>culmen_depth_mm</th>\n",
       "      <th>flipper_length_mm</th>\n",
       "      <th>body_mass_g</th>\n",
       "      <th>sex</th>\n",
       "    </tr>\n",
       "  </thead>\n",
       "  <tbody>\n",
       "    <tr>\n",
       "      <th>0</th>\n",
       "      <td>Adelie</td>\n",
       "      <td>Torgersen</td>\n",
       "      <td>39.1</td>\n",
       "      <td>18.7</td>\n",
       "      <td>181</td>\n",
       "      <td>3750</td>\n",
       "      <td>MALE</td>\n",
       "    </tr>\n",
       "    <tr>\n",
       "      <th>1</th>\n",
       "      <td>Adelie</td>\n",
       "      <td>Torgersen</td>\n",
       "      <td>39.5</td>\n",
       "      <td>17.4</td>\n",
       "      <td>186</td>\n",
       "      <td>3800</td>\n",
       "      <td>FEMALE</td>\n",
       "    </tr>\n",
       "    <tr>\n",
       "      <th>2</th>\n",
       "      <td>Adelie</td>\n",
       "      <td>Torgersen</td>\n",
       "      <td>40.3</td>\n",
       "      <td>18.0</td>\n",
       "      <td>195</td>\n",
       "      <td>3250</td>\n",
       "      <td>FEMALE</td>\n",
       "    </tr>\n",
       "    <tr>\n",
       "      <th>3</th>\n",
       "      <td>Adelie</td>\n",
       "      <td>Torgersen</td>\n",
       "      <td>36.7</td>\n",
       "      <td>19.3</td>\n",
       "      <td>193</td>\n",
       "      <td>3450</td>\n",
       "      <td>FEMALE</td>\n",
       "    </tr>\n",
       "    <tr>\n",
       "      <th>4</th>\n",
       "      <td>Adelie</td>\n",
       "      <td>Torgersen</td>\n",
       "      <td>39.3</td>\n",
       "      <td>20.6</td>\n",
       "      <td>190</td>\n",
       "      <td>3650</td>\n",
       "      <td>MALE</td>\n",
       "    </tr>\n",
       "  </tbody>\n",
       "</table>\n",
       "</div>"
      ],
      "text/plain": [
       "  species     island  culmen_length_mm  culmen_depth_mm  flipper_length_mm  \\\n",
       "0  Adelie  Torgersen              39.1             18.7                181   \n",
       "1  Adelie  Torgersen              39.5             17.4                186   \n",
       "2  Adelie  Torgersen              40.3             18.0                195   \n",
       "3  Adelie  Torgersen              36.7             19.3                193   \n",
       "4  Adelie  Torgersen              39.3             20.6                190   \n",
       "\n",
       "   body_mass_g     sex  \n",
       "0         3750    MALE  \n",
       "1         3800  FEMALE  \n",
       "2         3250  FEMALE  \n",
       "3         3450  FEMALE  \n",
       "4         3650    MALE  "
      ]
     },
     "execution_count": 4,
     "metadata": {},
     "output_type": "execute_result"
    }
   ],
   "source": [
    "# Display the first few rows of each dataset to verify\n",
    "penguins_data.head()"
   ]
  },
  {
   "cell_type": "code",
   "execution_count": 5,
   "metadata": {},
   "outputs": [
    {
     "data": {
      "text/html": [
       "<div>\n",
       "<style scoped>\n",
       "    .dataframe tbody tr th:only-of-type {\n",
       "        vertical-align: middle;\n",
       "    }\n",
       "\n",
       "    .dataframe tbody tr th {\n",
       "        vertical-align: top;\n",
       "    }\n",
       "\n",
       "    .dataframe thead th {\n",
       "        text-align: right;\n",
       "    }\n",
       "</style>\n",
       "<table border=\"1\" class=\"dataframe\">\n",
       "  <thead>\n",
       "    <tr style=\"text-align: right;\">\n",
       "      <th></th>\n",
       "      <th>Type</th>\n",
       "      <th>LongestShell</th>\n",
       "      <th>Diameter</th>\n",
       "      <th>Height</th>\n",
       "      <th>WholeWeight</th>\n",
       "      <th>ShuckedWeight</th>\n",
       "      <th>VisceraWeight</th>\n",
       "      <th>ShellWeight</th>\n",
       "      <th>Rings</th>\n",
       "    </tr>\n",
       "  </thead>\n",
       "  <tbody>\n",
       "    <tr>\n",
       "      <th>0</th>\n",
       "      <td>F</td>\n",
       "      <td>0.605</td>\n",
       "      <td>0.470</td>\n",
       "      <td>0.165</td>\n",
       "      <td>1.1775</td>\n",
       "      <td>0.6110</td>\n",
       "      <td>0.2275</td>\n",
       "      <td>0.2920</td>\n",
       "      <td>9</td>\n",
       "    </tr>\n",
       "    <tr>\n",
       "      <th>1</th>\n",
       "      <td>M</td>\n",
       "      <td>0.550</td>\n",
       "      <td>0.425</td>\n",
       "      <td>0.150</td>\n",
       "      <td>0.8315</td>\n",
       "      <td>0.4110</td>\n",
       "      <td>0.1765</td>\n",
       "      <td>0.2165</td>\n",
       "      <td>10</td>\n",
       "    </tr>\n",
       "    <tr>\n",
       "      <th>2</th>\n",
       "      <td>M</td>\n",
       "      <td>0.460</td>\n",
       "      <td>0.345</td>\n",
       "      <td>0.110</td>\n",
       "      <td>0.4595</td>\n",
       "      <td>0.2350</td>\n",
       "      <td>0.0885</td>\n",
       "      <td>0.1160</td>\n",
       "      <td>7</td>\n",
       "    </tr>\n",
       "    <tr>\n",
       "      <th>3</th>\n",
       "      <td>F</td>\n",
       "      <td>0.650</td>\n",
       "      <td>0.475</td>\n",
       "      <td>0.165</td>\n",
       "      <td>1.3875</td>\n",
       "      <td>0.5800</td>\n",
       "      <td>0.3485</td>\n",
       "      <td>0.3095</td>\n",
       "      <td>9</td>\n",
       "    </tr>\n",
       "    <tr>\n",
       "      <th>4</th>\n",
       "      <td>M</td>\n",
       "      <td>0.575</td>\n",
       "      <td>0.470</td>\n",
       "      <td>0.140</td>\n",
       "      <td>0.8375</td>\n",
       "      <td>0.3485</td>\n",
       "      <td>0.1735</td>\n",
       "      <td>0.2400</td>\n",
       "      <td>11</td>\n",
       "    </tr>\n",
       "  </tbody>\n",
       "</table>\n",
       "</div>"
      ],
      "text/plain": [
       "  Type  LongestShell  Diameter  Height  WholeWeight  ShuckedWeight  \\\n",
       "0    F         0.605     0.470   0.165       1.1775         0.6110   \n",
       "1    M         0.550     0.425   0.150       0.8315         0.4110   \n",
       "2    M         0.460     0.345   0.110       0.4595         0.2350   \n",
       "3    F         0.650     0.475   0.165       1.3875         0.5800   \n",
       "4    M         0.575     0.470   0.140       0.8375         0.3485   \n",
       "\n",
       "   VisceraWeight  ShellWeight  Rings  \n",
       "0         0.2275       0.2920      9  \n",
       "1         0.1765       0.2165     10  \n",
       "2         0.0885       0.1160      7  \n",
       "3         0.3485       0.3095      9  \n",
       "4         0.1735       0.2400     11  "
      ]
     },
     "execution_count": 5,
     "metadata": {},
     "output_type": "execute_result"
    }
   ],
   "source": [
    "abalone_data.head()"
   ]
  },
  {
   "cell_type": "code",
   "execution_count": 6,
   "metadata": {},
   "outputs": [],
   "source": [
    "# For penguins_data\n",
    "penguins_data_encoded = pd.get_dummies(penguins_data, columns=['island', 'sex'], drop_first=False)\n",
    "\n",
    "# Convert boolean values to integers (0 and 1) for the one-hot encoded columns\n",
    "encoded_columns = [col for col in penguins_data_encoded.columns if 'Type_' in col]\n",
    "penguins_data_encoded[encoded_columns] = penguins_data_encoded[encoded_columns].astype(int)"
   ]
  },
  {
   "cell_type": "code",
   "execution_count": 7,
   "metadata": {},
   "outputs": [],
   "source": [
    "# 'Type' is the original column with 'M', 'F', 'I' values for sex\n",
    "# This column will be the target variable, so we don't include it in the one-hot encoding process\n",
    "\n",
    "# Separate the features and the target variable\n",
    "x_abalone = abalone_data.drop('Type', axis=1)  # Features\n",
    "y_abalone = abalone_data['Type']  # Target variable\n",
    "\n",
    "# Encode the target variable 'Type'\n",
    "abalone_data_encoded = pd.get_dummies(y_abalone, drop_first=False)"
   ]
  },
  {
   "cell_type": "code",
   "execution_count": 8,
   "metadata": {},
   "outputs": [
    {
     "name": "stdout",
     "output_type": "stream",
     "text": [
      "<class 'pandas.core.frame.DataFrame'>\n",
      "RangeIndex: 333 entries, 0 to 332\n",
      "Data columns (total 10 columns):\n",
      " #   Column             Non-Null Count  Dtype  \n",
      "---  ------             --------------  -----  \n",
      " 0   species            333 non-null    object \n",
      " 1   culmen_length_mm   333 non-null    float64\n",
      " 2   culmen_depth_mm    333 non-null    float64\n",
      " 3   flipper_length_mm  333 non-null    int64  \n",
      " 4   body_mass_g        333 non-null    int64  \n",
      " 5   island_Biscoe      333 non-null    bool   \n",
      " 6   island_Dream       333 non-null    bool   \n",
      " 7   island_Torgersen   333 non-null    bool   \n",
      " 8   sex_FEMALE         333 non-null    bool   \n",
      " 9   sex_MALE           333 non-null    bool   \n",
      "dtypes: bool(5), float64(2), int64(2), object(1)\n",
      "memory usage: 14.8+ KB\n",
      "None\n"
     ]
    }
   ],
   "source": [
    "# Display the first few rows to verify\n",
    "print(penguins_data_encoded.info())"
   ]
  },
  {
   "cell_type": "code",
   "execution_count": 9,
   "metadata": {},
   "outputs": [
    {
     "name": "stdout",
     "output_type": "stream",
     "text": [
      "  species  culmen_length_mm  culmen_depth_mm  flipper_length_mm  body_mass_g  \\\n",
      "0  Adelie              39.1             18.7                181         3750   \n",
      "1  Adelie              39.5             17.4                186         3800   \n",
      "2  Adelie              40.3             18.0                195         3250   \n",
      "3  Adelie              36.7             19.3                193         3450   \n",
      "4  Adelie              39.3             20.6                190         3650   \n",
      "\n",
      "   island_Biscoe  island_Dream  island_Torgersen  sex_FEMALE  sex_MALE  \n",
      "0          False         False              True       False      True  \n",
      "1          False         False              True        True     False  \n",
      "2          False         False              True        True     False  \n",
      "3          False         False              True        True     False  \n",
      "4          False         False              True       False      True  \n"
     ]
    }
   ],
   "source": [
    "# Display the first few rows to verify\n",
    "print(penguins_data_encoded.head())"
   ]
  },
  {
   "cell_type": "code",
   "execution_count": 10,
   "metadata": {},
   "outputs": [
    {
     "data": {
      "text/html": [
       "<div>\n",
       "<style scoped>\n",
       "    .dataframe tbody tr th:only-of-type {\n",
       "        vertical-align: middle;\n",
       "    }\n",
       "\n",
       "    .dataframe tbody tr th {\n",
       "        vertical-align: top;\n",
       "    }\n",
       "\n",
       "    .dataframe thead th {\n",
       "        text-align: right;\n",
       "    }\n",
       "</style>\n",
       "<table border=\"1\" class=\"dataframe\">\n",
       "  <thead>\n",
       "    <tr style=\"text-align: right;\">\n",
       "      <th></th>\n",
       "      <th>LongestShell</th>\n",
       "      <th>Diameter</th>\n",
       "      <th>Height</th>\n",
       "      <th>WholeWeight</th>\n",
       "      <th>ShuckedWeight</th>\n",
       "      <th>VisceraWeight</th>\n",
       "      <th>ShellWeight</th>\n",
       "      <th>Rings</th>\n",
       "    </tr>\n",
       "  </thead>\n",
       "  <tbody>\n",
       "    <tr>\n",
       "      <th>0</th>\n",
       "      <td>0.605</td>\n",
       "      <td>0.470</td>\n",
       "      <td>0.165</td>\n",
       "      <td>1.1775</td>\n",
       "      <td>0.6110</td>\n",
       "      <td>0.2275</td>\n",
       "      <td>0.2920</td>\n",
       "      <td>9</td>\n",
       "    </tr>\n",
       "    <tr>\n",
       "      <th>1</th>\n",
       "      <td>0.550</td>\n",
       "      <td>0.425</td>\n",
       "      <td>0.150</td>\n",
       "      <td>0.8315</td>\n",
       "      <td>0.4110</td>\n",
       "      <td>0.1765</td>\n",
       "      <td>0.2165</td>\n",
       "      <td>10</td>\n",
       "    </tr>\n",
       "    <tr>\n",
       "      <th>2</th>\n",
       "      <td>0.460</td>\n",
       "      <td>0.345</td>\n",
       "      <td>0.110</td>\n",
       "      <td>0.4595</td>\n",
       "      <td>0.2350</td>\n",
       "      <td>0.0885</td>\n",
       "      <td>0.1160</td>\n",
       "      <td>7</td>\n",
       "    </tr>\n",
       "    <tr>\n",
       "      <th>3</th>\n",
       "      <td>0.650</td>\n",
       "      <td>0.475</td>\n",
       "      <td>0.165</td>\n",
       "      <td>1.3875</td>\n",
       "      <td>0.5800</td>\n",
       "      <td>0.3485</td>\n",
       "      <td>0.3095</td>\n",
       "      <td>9</td>\n",
       "    </tr>\n",
       "    <tr>\n",
       "      <th>4</th>\n",
       "      <td>0.575</td>\n",
       "      <td>0.470</td>\n",
       "      <td>0.140</td>\n",
       "      <td>0.8375</td>\n",
       "      <td>0.3485</td>\n",
       "      <td>0.1735</td>\n",
       "      <td>0.2400</td>\n",
       "      <td>11</td>\n",
       "    </tr>\n",
       "  </tbody>\n",
       "</table>\n",
       "</div>"
      ],
      "text/plain": [
       "   LongestShell  Diameter  Height  WholeWeight  ShuckedWeight  VisceraWeight  \\\n",
       "0         0.605     0.470   0.165       1.1775         0.6110         0.2275   \n",
       "1         0.550     0.425   0.150       0.8315         0.4110         0.1765   \n",
       "2         0.460     0.345   0.110       0.4595         0.2350         0.0885   \n",
       "3         0.650     0.475   0.165       1.3875         0.5800         0.3485   \n",
       "4         0.575     0.470   0.140       0.8375         0.3485         0.1735   \n",
       "\n",
       "   ShellWeight  Rings  \n",
       "0       0.2920      9  \n",
       "1       0.2165     10  \n",
       "2       0.1160      7  \n",
       "3       0.3095      9  \n",
       "4       0.2400     11  "
      ]
     },
     "execution_count": 10,
     "metadata": {},
     "output_type": "execute_result"
    }
   ],
   "source": [
    "x_abalone.head()"
   ]
  },
  {
   "cell_type": "code",
   "execution_count": 11,
   "metadata": {},
   "outputs": [
    {
     "name": "stdout",
     "output_type": "stream",
     "text": [
      "<class 'pandas.core.frame.DataFrame'>\n",
      "RangeIndex: 4177 entries, 0 to 4176\n",
      "Data columns (total 8 columns):\n",
      " #   Column         Non-Null Count  Dtype  \n",
      "---  ------         --------------  -----  \n",
      " 0   LongestShell   4177 non-null   float64\n",
      " 1   Diameter       4177 non-null   float64\n",
      " 2   Height         4177 non-null   float64\n",
      " 3   WholeWeight    4177 non-null   float64\n",
      " 4   ShuckedWeight  4177 non-null   float64\n",
      " 5   VisceraWeight  4177 non-null   float64\n",
      " 6   ShellWeight    4177 non-null   float64\n",
      " 7   Rings          4177 non-null   int64  \n",
      "dtypes: float64(7), int64(1)\n",
      "memory usage: 261.2 KB\n"
     ]
    }
   ],
   "source": [
    "x_abalone.info()"
   ]
  },
  {
   "cell_type": "code",
   "execution_count": 12,
   "metadata": {},
   "outputs": [
    {
     "name": "stdout",
     "output_type": "stream",
     "text": [
      "<class 'pandas.core.frame.DataFrame'>\n",
      "RangeIndex: 4177 entries, 0 to 4176\n",
      "Data columns (total 3 columns):\n",
      " #   Column  Non-Null Count  Dtype\n",
      "---  ------  --------------  -----\n",
      " 0   F       4177 non-null   bool \n",
      " 1   I       4177 non-null   bool \n",
      " 2   M       4177 non-null   bool \n",
      "dtypes: bool(3)\n",
      "memory usage: 12.4 KB\n",
      "None\n"
     ]
    }
   ],
   "source": [
    "# Display the first few rows to verify\n",
    "print(abalone_data_encoded.info())"
   ]
  },
  {
   "cell_type": "code",
   "execution_count": 13,
   "metadata": {},
   "outputs": [
    {
     "data": {
      "text/html": [
       "<div>\n",
       "<style scoped>\n",
       "    .dataframe tbody tr th:only-of-type {\n",
       "        vertical-align: middle;\n",
       "    }\n",
       "\n",
       "    .dataframe tbody tr th {\n",
       "        vertical-align: top;\n",
       "    }\n",
       "\n",
       "    .dataframe thead th {\n",
       "        text-align: right;\n",
       "    }\n",
       "</style>\n",
       "<table border=\"1\" class=\"dataframe\">\n",
       "  <thead>\n",
       "    <tr style=\"text-align: right;\">\n",
       "      <th></th>\n",
       "      <th>F</th>\n",
       "      <th>I</th>\n",
       "      <th>M</th>\n",
       "    </tr>\n",
       "  </thead>\n",
       "  <tbody>\n",
       "    <tr>\n",
       "      <th>0</th>\n",
       "      <td>True</td>\n",
       "      <td>False</td>\n",
       "      <td>False</td>\n",
       "    </tr>\n",
       "    <tr>\n",
       "      <th>1</th>\n",
       "      <td>False</td>\n",
       "      <td>False</td>\n",
       "      <td>True</td>\n",
       "    </tr>\n",
       "    <tr>\n",
       "      <th>2</th>\n",
       "      <td>False</td>\n",
       "      <td>False</td>\n",
       "      <td>True</td>\n",
       "    </tr>\n",
       "    <tr>\n",
       "      <th>3</th>\n",
       "      <td>True</td>\n",
       "      <td>False</td>\n",
       "      <td>False</td>\n",
       "    </tr>\n",
       "    <tr>\n",
       "      <th>4</th>\n",
       "      <td>False</td>\n",
       "      <td>False</td>\n",
       "      <td>True</td>\n",
       "    </tr>\n",
       "  </tbody>\n",
       "</table>\n",
       "</div>"
      ],
      "text/plain": [
       "       F      I      M\n",
       "0   True  False  False\n",
       "1  False  False   True\n",
       "2  False  False   True\n",
       "3   True  False  False\n",
       "4  False  False   True"
      ]
     },
     "execution_count": 13,
     "metadata": {},
     "output_type": "execute_result"
    }
   ],
   "source": [
    "# Display the first few rows to verify\n",
    "abalone_data_encoded.head()"
   ]
  },
  {
   "cell_type": "markdown",
   "metadata": {},
   "source": [
    "## 2.2 Plot the percentage of instances in each output class\n",
    "- Store the graphic in a file called `penguin-classes.gif` / `abalone-classes.gif`.\n",
    "- This analysis of the dataset will allow you to determine if the classes are balanced.\n",
    "- Decide which metric is more appropriate to evaluate the performance.\n",
    "- Be prepared to discuss this at the demo."
   ]
  },
  {
   "cell_type": "code",
   "execution_count": 15,
   "metadata": {},
   "outputs": [
    {
     "data": {
      "image/png": "[encoded data removed]",
      "text/plain": [
       "<Figure size 800x600 with 1 Axes>"
      ]
     },
     "metadata": {},
     "output_type": "display_data"
    }
   ],
   "source": [
    "# Plotting the distribution for 'species' in penguins_data\n",
    "# Then use bash to convert the PNG to GIF in folder \"result\": magick convert penguin-classes.png penguin-classes.gif\n",
    "species_counts = penguins_data['species'].value_counts(normalize=True) * 100\n",
    "species_counts.plot(kind='bar', color='skyblue', figsize=(8, 6))\n",
    "plt.title('Distribution of Species in Penguins Dataset')\n",
    "plt.ylabel('Percentage (%)')\n",
    "plt.xlabel('Species')\n",
    "plt.xticks(rotation=0)\n",
    "plt.grid(axis='y')\n",
    "plt.tight_layout()\n",
    "plt.show()\n",
    "#plt.savefig('./result/penguin-classes.png')\n",
    "plt.close()"
   ]
  },
  {
   "cell_type": "code",
   "execution_count": 16,
   "metadata": {},
   "outputs": [
    {
     "data": {
      "image/png": "[encoded data removed]",
      "text/plain": [
       "<Figure size 800x600 with 1 Axes>"
      ]
     },
     "metadata": {},
     "output_type": "display_data"
    }
   ],
   "source": [
    "# Plotting the distribution for 'Type' in abalone_data\n",
    "# Then use bash to convert the PNG to GIF in folder \"result\": magick convert abalone-classes.png penguin-classes.gif\n",
    "type_counts = abalone_data['Type'].value_counts(normalize=True) * 100\n",
    "type_counts.plot(kind='bar', color='coral', figsize=(8, 6))\n",
    "plt.title('Distribution of Types in Abalone Dataset')\n",
    "plt.ylabel('Percentage (%)')\n",
    "plt.xlabel('Type')\n",
    "plt.grid(axis='y')\n",
    "plt.xticks(rotation=0)\n",
    "plt.tight_layout()\n",
    "plt.show()\n",
    "#plt.savefig('./result/abalone-classes.png')\n",
    "plt.close()"
   ]
  }
 ],
 "metadata": {
  "kernelspec": {
   "display_name": "Python 3",
   "language": "python",
   "name": "python3"
  },
  "language_info": {
   "codemirror_mode": {
    "name": "ipython",
    "version": 3
   },
   "file_extension": ".py",
   "mimetype": "text/x-python",
   "name": "python",
   "nbconvert_exporter": "python",
   "pygments_lexer": "ipython3",
   "version": "3.11.6"
  }
 },
 "nbformat": 4,
 "nbformat_minor": 2
}
